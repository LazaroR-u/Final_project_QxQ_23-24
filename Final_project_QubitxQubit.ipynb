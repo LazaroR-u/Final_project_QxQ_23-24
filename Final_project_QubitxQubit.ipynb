{
  "nbformat": 4,
  "nbformat_minor": 0,
  "metadata": {
    "colab": {
      "provenance": [],
      "authorship_tag": "ABX9TyO3M/v+XpRSI6/we/RtgnDe",
      "include_colab_link": true
    },
    "kernelspec": {
      "name": "python3",
      "display_name": "Python 3"
    },
    "language_info": {
      "name": "python"
    }
  },
  "cells": [
    {
      "cell_type": "markdown",
      "metadata": {
        "id": "view-in-github",
        "colab_type": "text"
      },
      "source": [
        "<a href=\"https://colab.research.google.com/github/LazaroR-u/Final_project_QxQ_23-24/blob/main/Final_project_QubitxQubit.ipynb\" target=\"_parent\"><img src=\"https://colab.research.google.com/assets/colab-badge.svg\" alt=\"Open In Colab\"/></a>"
      ]
    },
    {
      "cell_type": "code",
      "execution_count": 1,
      "metadata": {
        "id": "T3mlabDcw2AS"
      },
      "outputs": [],
      "source": [
        "%%capture\n",
        "pip install cirq"
      ]
    },
    {
      "cell_type": "code",
      "source": [
        "import numpy as np\n",
        "import cirq"
      ],
      "metadata": {
        "id": "NlqdgLp0pOQ2"
      },
      "execution_count": 2,
      "outputs": []
    },
    {
      "cell_type": "markdown",
      "source": [
        "## QUANTUM BB84 PROTOCOL"
      ],
      "metadata": {
        "id": "vn92FcQ4nOzZ"
      }
    },
    {
      "cell_type": "markdown",
      "source": [
        "Example program to demonstrate BB84 QKD Protocol\n",
        "\n",
        "BB84 is a quantum key distribution (QKD) protocol developed by\n",
        "Charles Bennett and Gilles Brassard in 1984. It was the first quantum\n",
        "cryptographic protocol, using the laws of quantum mechanics (specifically,\n",
        "no-cloning) to provide provably secure key generation.\n",
        "\n",
        "BB84 relies on the fact that it is impossible to gain information\n",
        "distinguishing two non-orthogonal states without disturbing the signal.\n",
        "\n",
        "The scheme involves two parties Alice and Bob connected by a classical\n",
        "communication channel. In addition to this, Alice can also prepare\n",
        "qubits in a particular state and send them to Bob using a unidirectional\n",
        "quantum channel.\n",
        "\n",
        "Alice generates two random binary strings a and b of the same length n.\n",
        "The string a encodes the state and the string b encodes the basis.\n",
        "She then prepares n qubits according to the following prescription:\n",
        "\n",
        "|q[i]⟩ = |0⟩ if a[i] == 0 and b[i] == 0\n",
        "\n",
        "|q[i]⟩ = |1⟩ if a[i] == 1 and b[i] == 0\n",
        "\n",
        "|q[i]⟩ = |+⟩ if a[i] == 0 and b[i] == 1\n",
        "\n",
        "|q[i]⟩ = |-⟩ if a[i] == 1 and b[i] == 1\n",
        "\n",
        "\n",
        "where |+/-⟩ = 1/sqrt(2)*(|0⟩+/-|1⟩).\n",
        "\n",
        "Alice sends her qubits to Bob. Bob then generates a random binary string\n",
        "c of length n. He measures the qubit |q[i]⟩ in the {|0⟩, |1⟩} basis\n",
        "(computational basis) if c[i] == 0 and in the {|+⟩,|-⟩} basis\n",
        "(Hadamard basis) if c[i] == 1 and stores the result in a string m.\n",
        "Alice and Bob then announce the strings b and c, which encode\n",
        "the random basis choices of Alice and Bob respectively.\n",
        "\n",
        "The strings a and m match in the places where b and c are the same.\n",
        "This happens because the state was measured in the same basis in\n",
        "which it was prepared. For the remaining bits, the results are\n",
        "uncorrelated. The bits from strings a and m where the bases match\n",
        "can be used as a key for cryptography.\n",
        "\n",
        "BB84 is secure against intercept-and-resend attacks. The no-cloning\n",
        "theorem [2] guarantees that a qubit that is in an unknown state to\n",
        "begin with cannot be copied or cloned. Thus, any measurement will\n",
        "destroy the initial state of the qubit. Suppose an eavesdropper Eve\n",
        "intercepts all of Alice's qubits, measures them in a randomly chosen\n",
        "basis, prepares another qubit in the state that she measured and resends\n",
        "it to Bob. The state Eve measures is not necessarily the state Alice\n",
        "prepared,  and hence, Alice and Bob will not measure the same outcome\n",
        "for that qubit even if their basis choices match. Thus, Alice and Bob\n",
        "can detect eavesdropping by comparing a few bits from their\n",
        "obtained keys.\n",
        "\n",
        "[1]: https://en.wikipedia.org/wiki/BB84\n",
        "\n",
        "\n",
        "[2]: https://en.wikipedia.org/wiki/No-cloning_theorem\n",
        "\n"
      ],
      "metadata": {
        "id": "SHVQDzXyz2wr"
      }
    },
    {
      "cell_type": "code",
      "source": [
        "def main(num_qubits=12):\n",
        "    # Setup non-eavesdropped protocol\n",
        "    print('Simulating non-eavesdropped protocol')\n",
        "    qubits = cirq.LineQubit.range(num_qubits)\n",
        "    alice_basis = [np.random.randint(0, 2) for _ in range(num_qubits)]\n",
        "    alice_state = [np.random.randint(0, 2) for _ in range(num_qubits)]\n",
        "    bob_basis = [np.random.randint(0, 2) for _ in range(num_qubits)]\n",
        "\n",
        "    expected_key = bitstring(\n",
        "        [alice_state[i] for i in range(num_qubits) if alice_basis[i] == bob_basis[i]]\n",
        "    )\n",
        "\n",
        "    circuit = make_bb84_circ(num_qubits, alice_basis, bob_basis, alice_state)\n",
        "\n",
        "    # Run simulations.\n",
        "    repetitions = 1\n",
        "\n",
        "    result = cirq.Simulator().run(program=circuit, repetitions=repetitions)\n",
        "    result_bitstring = bitstring([int(np.ravel(result.measurements[str(q)])[0]) for q in qubits])\n",
        "\n",
        "    # Take only qubits where bases match\n",
        "    obtained_key = ''.join(\n",
        "        [result_bitstring[i] for i in range(num_qubits) if alice_basis[i] == bob_basis[i]]\n",
        "    )\n",
        "\n",
        "    assert expected_key == obtained_key, \"Keys don't match\"\n",
        "\n",
        "    print(circuit)\n",
        "    print_results(alice_basis, bob_basis, alice_state, expected_key, obtained_key)\n",
        "\n",
        "    if expected_key == obtained_key:\n",
        "      print(f\"No eavesdropping detected. Take the secure key: {obtained_key}\")\n",
        "    else:\n",
        "      print(\"Eavesdropping detected. The key is not secure. Try again!\")\n",
        "      print(f\"Expected key: {expected_key}, Obtained key: {obtained_key}\")\n",
        "\n",
        "    # Setup eavesdropped protocol\n",
        "    print(\"-----------------------------------------------------------\")\n",
        "    print('Simulating eavesdropped protocol')\n",
        "    np.random.seed(200)  # Seed random generator for consistent results\n",
        "    alice_basis = [np.random.randint(0, 2) for _ in range(num_qubits)]\n",
        "    alice_state = [np.random.randint(0, 2) for _ in range(num_qubits)]\n",
        "    bob_basis = [np.random.randint(0, 2) for _ in range(num_qubits)]\n",
        "    eve_basis = [np.random.randint(0, 2) for _ in range(num_qubits)]\n",
        "\n",
        "    expected_key = bitstring(\n",
        "        [alice_state[i] for i in range(num_qubits) if alice_basis[i] == bob_basis[i]]\n",
        "    )\n",
        "\n",
        "    # Eve intercepts the qubits\n",
        "\n",
        "    alice_eve_circuit = make_bb84_circ(num_qubits, alice_basis, eve_basis, alice_state)\n",
        "\n",
        "    # Run simulations.\n",
        "    repetitions = 1\n",
        "    result = cirq.Simulator().run(program=alice_eve_circuit, repetitions=repetitions)\n",
        "    eve_state = [int(np.ravel(result.measurements[str(q)])[0]) for q in qubits]\n",
        "\n",
        "    eve_bob_circuit = make_bb84_circ(num_qubits, eve_basis, bob_basis, eve_state)\n",
        "\n",
        "    # Run simulations.\n",
        "    repetitions = 1\n",
        "    result = cirq.Simulator().run(program=eve_bob_circuit, repetitions=repetitions)\n",
        "    result_bitstring = bitstring([int(np.ravel(result.measurements[str(q)])[0]) for q in qubits])\n",
        "\n",
        "\n",
        "    # Take only qubits where bases match\n",
        "    obtained_key = ''.join(\n",
        "        [result_bitstring[i] for i in range(num_qubits) if alice_basis[i] == bob_basis[i]]\n",
        "    )\n",
        "\n",
        "    assert expected_key != obtained_key, \"Keys shouldn't match\"\n",
        "\n",
        "    circuit = alice_eve_circuit + eve_bob_circuit\n",
        "\n",
        "    print(circuit)\n",
        "    print_results(alice_basis, bob_basis, alice_state, expected_key, obtained_key)\n",
        "\n",
        "    if expected_key == obtained_key:\n",
        "      print(f\"No eavesdropping detected. Take the secure key: {obtained_key}\")\n",
        "    else:\n",
        "      print(\"Eavesdropping detected. The key is not secure. Try again!\")\n",
        "      print(f\"Expected key: {expected_key}, Obtained key: {obtained_key}\")\n",
        "\n",
        "\n",
        "\n",
        "def make_bb84_circ(num_qubits, alice_basis, bob_basis, alice_state):\n",
        "\n",
        "    qubits = cirq.LineQubit.range(num_qubits)\n",
        "\n",
        "    circuit = cirq.Circuit()\n",
        "\n",
        "    # Alice prepares her qubits\n",
        "    alice_enc = []\n",
        "    for index, _ in enumerate(alice_basis):\n",
        "        if alice_state[index] == 1:\n",
        "            alice_enc.append(cirq.X(qubits[index]))\n",
        "        if alice_basis[index] == 1:\n",
        "            alice_enc.append(cirq.H(qubits[index]))\n",
        "\n",
        "    circuit.append(alice_enc)\n",
        "\n",
        "    # Bob measures the received qubits\n",
        "    bob_basis_choice = []\n",
        "    for index, _ in enumerate(bob_basis):\n",
        "        if bob_basis[index] == 1:\n",
        "            bob_basis_choice.append(cirq.H(qubits[index]))\n",
        "\n",
        "    circuit.append(bob_basis_choice)\n",
        "    circuit.append(cirq.measure_each(*qubits))\n",
        "\n",
        "    return circuit\n",
        "\n",
        "\n",
        "def bitstring(bits):\n",
        "    return ''.join(str(int(b)) for b in bits)\n",
        "\n",
        "def int_to_bin(n: int, zeros: int ):\n",
        "    \"\"\"\n",
        "    Transform an integer to binary format.\n",
        "    Parameters:\n",
        "    n (int): The number of bits to generate.\n",
        "    zeros (int): number of qubits.\n",
        "    Returns:\n",
        "    np.ndarray: An array of random bits.\n",
        "    \"\"\"\n",
        "    return bin(n)[2:].zfill(zeros)\n",
        "\n",
        "def print_results(alice_basis, bob_basis, alice_state, expected_key, obtained_key):\n",
        "    num_qubits = len(alice_basis)\n",
        "    basis_match = ''.join(\n",
        "        ['X' if alice_basis[i] == bob_basis[i] else '_' for i in range(num_qubits)]\n",
        "    )\n",
        "    alice_basis_str = \"\".join(['C' if alice_basis[i] == 0 else \"H\" for i in range(num_qubits)])\n",
        "    bob_basis_str = \"\".join(['C' if bob_basis[i] == 0 else \"H\" for i in range(num_qubits)])\n",
        "\n",
        "    print(f'Alice\\'s bases:\\t{alice_basis_str}')\n",
        "    print(f'Bob\\'s bases:\\t{bob_basis_str}')\n",
        "    print(f'Alice\\'s bits:\\t{bitstring(alice_state)}')\n",
        "    print(f'Bases match:\\t{basis_match}')\n",
        "    print(f'Expected key:\\t{expected_key}')\n",
        "    print(f'Actual key:\\t{obtained_key}')\n",
        "    print(f\"Keys are the same:\\t{expected_key == obtained_key}\")\n",
        "\n",
        "\n",
        "if __name__ == \"__main__\":\n",
        "    main()"
      ],
      "metadata": {
        "colab": {
          "base_uri": "https://localhost:8080/"
        },
        "id": "gv2Nbrw25VFO",
        "outputId": "0cada8fa-80a0-43b8-8950-3fecb9eca9e5"
      },
      "execution_count": 3,
      "outputs": [
        {
          "output_type": "stream",
          "name": "stdout",
          "text": [
            "Simulating non-eavesdropped protocol\n",
            "0: ────M───────────────\n",
            "\n",
            "1: ────X───H───M───────\n",
            "\n",
            "2: ────X───H───H───M───\n",
            "\n",
            "3: ────X───H───H───M───\n",
            "\n",
            "4: ────H───M───────────\n",
            "\n",
            "5: ────X───M───────────\n",
            "\n",
            "6: ────M───────────────\n",
            "\n",
            "7: ────X───H───M───────\n",
            "\n",
            "8: ────X───H───M───────\n",
            "\n",
            "9: ────X───H───H───M───\n",
            "\n",
            "10: ───H───M───────────\n",
            "\n",
            "11: ───X───H───M───────\n",
            "Alice's bases:\tCCHHCCCCCHHH\n",
            "Bob's bases:\tCHHHHCCHHHCC\n",
            "Alice's bits:\t011101011101\n",
            "Bases match:\tX_XX_XX__X__\n",
            "Expected key:\t011101\n",
            "Actual key:\t011101\n",
            "Keys are the same:\tTrue\n",
            "No eavesdropping detected. Take the secure key: 011101\n",
            "-----------------------------------------------------------\n",
            "Simulating eavesdropped protocol\n",
            "0: ────X───H───M───────X───H───M───────\n",
            "\n",
            "1: ────X───H───M───────H───M───────────\n",
            "\n",
            "2: ────M───────────────H───M───────────\n",
            "\n",
            "3: ────H───M───────────X───H───M───────\n",
            "\n",
            "4: ────M───────────────H───M───────────\n",
            "\n",
            "5: ────X───H───H───M───X───H───M───────\n",
            "\n",
            "6: ────X───H───M───────H───M───────────\n",
            "\n",
            "7: ────X───H───H───M───X───H───H───M───\n",
            "\n",
            "8: ────X───H───H───M───X───H───M───────\n",
            "\n",
            "9: ────X───M───────────X───H───M───────\n",
            "\n",
            "10: ───X───H───M───────X───M───────────\n",
            "\n",
            "11: ───X───H───H───M───X───H───M───────\n",
            "Alice's bases:\tCHCCCHCHHCHH\n",
            "Bob's bases:\tCHHCHCCHCHCC\n",
            "Alice's bits:\t110001111111\n",
            "Bases match:\tXX_X__XX____\n",
            "Expected key:\t11011\n",
            "Actual key:\t01101\n",
            "Keys are the same:\tFalse\n",
            "Eavesdropping detected. The key is not secure. Try again!\n",
            "Expected key: 11011, Obtained key: 01101\n"
          ]
        }
      ]
    },
    {
      "cell_type": "markdown",
      "source": [
        "## CREATE KEY"
      ],
      "metadata": {
        "id": "F_b6_mh1nKCt"
      }
    },
    {
      "cell_type": "code",
      "source": [
        "def create_key_bb84(num_qubits=30, eavesdropper=False):\n",
        "    qubits = cirq.LineQubit.range(num_qubits)\n",
        "\n",
        "    if not eavesdropper:\n",
        "        alice_basis = [np.random.randint(0, 2) for _ in range(num_qubits)]\n",
        "        alice_state = [np.random.randint(0, 2) for _ in range(num_qubits)]\n",
        "        bob_basis = [np.random.randint(0, 2) for _ in range(num_qubits)]\n",
        "\n",
        "        expected_key = ''.join(\n",
        "            [str(alice_state[i]) for i in range(num_qubits) if alice_basis[i] == bob_basis[i]]\n",
        "        )\n",
        "\n",
        "        circuit = make_bb84_circ(num_qubits, alice_basis, bob_basis, alice_state)\n",
        "\n",
        "        result = cirq.Simulator().run(program=circuit, repetitions=1)\n",
        "        result_bitstring = bitstring([int(np.ravel(result.measurements[str(q)])[0]) for q in qubits])\n",
        "\n",
        "        obtained_key = ''.join(\n",
        "            [result_bitstring[i] for i in range(num_qubits) if alice_basis[i] == bob_basis[i]]\n",
        "        )\n",
        "\n",
        "        if expected_key == obtained_key:\n",
        "          return expected_key\n",
        "        else:\n",
        "          print(\"Eavesdropping detected. The key is not secure. Try again!\")\n",
        "          print(f\"Expected key: {expected_key}, Obtained key: {obtained_key}\")\n",
        "\n",
        "    elif eavesdropper:\n",
        "        alice_basis = [np.random.randint(0, 2) for _ in range(num_qubits)]\n",
        "        alice_state = [np.random.randint(0, 2) for _ in range(num_qubits)]\n",
        "        bob_basis = [np.random.randint(0, 2) for _ in range(num_qubits)]\n",
        "        eve_basis = [np.random.randint(0, 2) for _ in range(num_qubits)]\n",
        "\n",
        "        expected_key = bitstring(\n",
        "            [alice_state[i] for i in range(num_qubits) if alice_basis[i] == bob_basis[i]]\n",
        "        )\n",
        "\n",
        "        # Eve intercepts the qubits\n",
        "        alice_eve_circuit = make_bb84_circ(num_qubits, alice_basis, eve_basis, alice_state)\n",
        "\n",
        "        # Run simulations.\n",
        "        repetitions = 1\n",
        "        result = cirq.Simulator().run(program=alice_eve_circuit, repetitions=repetitions)\n",
        "        eve_state = [int(np.ravel(result.measurements[str(q)])[0]) for q in qubits]\n",
        "\n",
        "        eve_bob_circuit = make_bb84_circ(num_qubits, eve_basis, bob_basis, eve_state)\n",
        "\n",
        "        # Run simulations.\n",
        "        repetitions = 1\n",
        "        result = cirq.Simulator().run(program=eve_bob_circuit, repetitions=repetitions)\n",
        "        result_bitstring = bitstring([int(np.ravel(result.measurements[str(q)])[0]) for q in qubits])\n",
        "\n",
        "        # Take only qubits where bases match\n",
        "        obtained_key = ''.join(\n",
        "            [result_bitstring[i] for i in range(num_qubits) if alice_basis[i] == bob_basis[i]]\n",
        "        )\n",
        "\n",
        "        if expected_key == obtained_key:\n",
        "          print(f\"No eavesdropping detected. Take the secure key: {obtained_key}\")\n",
        "        else:\n",
        "          print(\"Eavesdropping detected. The key is not secure. Try again!\")\n",
        "          print(f\"Expected key: {expected_key}, Obtained key: {obtained_key}\")\n",
        "\n",
        "create_key_bb84(eavesdropper=False)"
      ],
      "metadata": {
        "colab": {
          "base_uri": "https://localhost:8080/",
          "height": 35
        },
        "id": "b9caDsSnAiey",
        "outputId": "7a186d3a-6cf4-4ef5-8ddb-198fb355ba87"
      },
      "execution_count": 15,
      "outputs": [
        {
          "output_type": "execute_result",
          "data": {
            "text/plain": [
              "'011010101101001110'"
            ],
            "application/vnd.google.colaboratory.intrinsic+json": {
              "type": "string"
            }
          },
          "metadata": {},
          "execution_count": 15
        }
      ]
    },
    {
      "cell_type": "code",
      "source": [
        "create_key_bb84(eavesdropper=True)"
      ],
      "metadata": {
        "colab": {
          "base_uri": "https://localhost:8080/"
        },
        "id": "OX690Nw24STa",
        "outputId": "bdb21b14-b3f4-48f4-c303-f1f2138efd12"
      },
      "execution_count": 16,
      "outputs": [
        {
          "output_type": "stream",
          "name": "stdout",
          "text": [
            "Eavesdropping detected. The key is not secure. Try again!\n",
            "Expected key: 0110000101110111, Obtained key: 0010100000110111\n"
          ]
        }
      ]
    },
    {
      "cell_type": "markdown",
      "source": [
        "## ENCRYPT - DECRYPT - TRANSFORM FUNCTIONS"
      ],
      "metadata": {
        "id": "u9xgdCDH4v8I"
      }
    },
    {
      "cell_type": "code",
      "source": [
        "def shorten_key(data, key):\n",
        "    # The key should be the same length as the data for the binary addition\n",
        "    if len(key) < len(data):\n",
        "        repeat_factor = (len(data) // len(key)) + 1\n",
        "        new_key = (key * repeat_factor)[:len(data)]\n",
        "        return new_key\n",
        "    else:\n",
        "        return key\n",
        "\n",
        "\n",
        "def encryption(data,key):\n",
        "    # function which creates the encrypted message using the key created between Alice and Bob\n",
        "    if len(data) != len(key):\n",
        "        # if the key is longer than the data, shorten the key\n",
        "        key = shorten_key(data,key)\n",
        "\n",
        "    encrypted_message = [None for j in range(len(data))]\n",
        "\n",
        "    # binary addition\n",
        "    for i in range(len(data)):\n",
        "      if (data[i] == str(0) and key[i] == str(0)) or (data[i] == str(1) and key[i] == str(1)):\n",
        "        encrypted_message[i] = 0\n",
        "      elif (data[i] == str(1) and key[i] == str(0)) or (data[i] == str(0) and key[i] == str(1)):\n",
        "        encrypted_message[i] = 1\n",
        "\n",
        "    return ''.join(map(str, encrypted_message))\n",
        "\n",
        "\n",
        "def decryption(message,key):\n",
        "    # function which recreates the original message using the key created between Alice and Bob\n",
        "    # The message argument here is the encrypted message Bob recieves from Alice\n",
        "    # This function is the same as the encryption function, using simple binary addition\n",
        "    # Used by Bob\n",
        "    return encryption(message,key)\n",
        "\n",
        "# Convertir la lista en un string\n",
        "def bin_to_num(lista):\n",
        "  return int(''.join(map(str, lista)), 2)"
      ],
      "metadata": {
        "id": "4SpyGDiGBkTE"
      },
      "execution_count": 6,
      "outputs": []
    },
    {
      "cell_type": "code",
      "source": [
        "def binary_converter(string):\n",
        "    # Initialize an empty list to store the binary values\n",
        "    binary_list = []\n",
        "\n",
        "    # Iterate through each character in the string\n",
        "    for char in string:\n",
        "        # Convert the character to its ASCII integer value and then to its binary representation,\n",
        "        # and append it to the list\n",
        "        binary_list.append(format(ord(char), '08b'))\n",
        "\n",
        "    # Join the binary values in the list and return as a single string\n",
        "    return ''.join(binary_list)\n",
        "\n",
        "\n",
        "def string_converter(binary):\n",
        "    # Initialize an empty string to store the result\n",
        "    result = \"\"\n",
        "\n",
        "    # Iterate through the binary string in steps of 8 characters\n",
        "    for i in range(0, len(binary), 8):\n",
        "        # Extract the 8-character binary block\n",
        "        binary_block = binary[i:i + 8]\n",
        "\n",
        "        # Convert the binary block to its decimal value and then to its corresponding ASCII character\n",
        "        char = chr(int(binary_block, 2))\n",
        "\n",
        "        # Add the character to the result\n",
        "        result += char\n",
        "\n",
        "    return result"
      ],
      "metadata": {
        "id": "5AdTpYND3_gQ"
      },
      "execution_count": 7,
      "outputs": []
    },
    {
      "cell_type": "markdown",
      "source": [
        "# EXAMPLES"
      ],
      "metadata": {
        "id": "dLJVKEWroerO"
      }
    },
    {
      "cell_type": "markdown",
      "source": [
        "## Number: like a NIP"
      ],
      "metadata": {
        "id": "jO88d2CDm8kq"
      }
    },
    {
      "cell_type": "code",
      "source": [
        "password = 12345\n",
        "\n",
        "message = int_to_bin(password, 14)\n",
        "\n",
        "key = create_key_bb84()\n",
        "key = shorten_key(message, key)\n",
        "\n",
        "\n",
        "encrypted_message = encryption(message, key)\n",
        "decrypted_message = decryption(encrypted_message, key)\n",
        "received_message = bin_to_num(decrypted_message)\n",
        "\n",
        "print(f\"sent message: {password}, messagge in binary format: {message}\")\n",
        "print(f\"key: {key}, len: {len(key)}; message: {message}, len: {len(message)}\")\n",
        "print(f\"encrypted message: {encrypted_message}\")\n",
        "print(f\"decrypted message: {decrypted_message}\")\n",
        "print(f\"received message: {received_message}\")"
      ],
      "metadata": {
        "colab": {
          "base_uri": "https://localhost:8080/"
        },
        "id": "d6dOlIyUmxAq",
        "outputId": "d31c2bd4-e2ce-4fef-a240-0f1df7f164a7"
      },
      "execution_count": 8,
      "outputs": [
        {
          "output_type": "stream",
          "name": "stdout",
          "text": [
            "sent message: 12345, messagge in binary format: 11000000111001\n",
            "key: 10001011111001, len: 14; message: 11000000111001, len: 14\n",
            "encrypted message: 01001011000000\n",
            "decrypted message: 11000000111001\n",
            "received message: 12345\n"
          ]
        }
      ]
    },
    {
      "cell_type": "markdown",
      "source": [
        "## Word: like a PASSWORD\n",
        "\n",
        "\n"
      ],
      "metadata": {
        "id": "VBQPTqqQY8Ck"
      }
    },
    {
      "cell_type": "code",
      "source": [
        "#text\n",
        "original_message = \"Google\"\n",
        "\n",
        "message = binary_converter(original_message)\n",
        "message = ''.join(map(str, message))\n",
        "key = create_key_bb84()\n",
        "key = shorten_key(message, key)\n",
        "\n",
        "encrypted_message = encryption(message, key)\n",
        "decrypted_message = decryption(encrypted_message, key)\n",
        "received_message = string_converter(decrypted_message)\n",
        "\n",
        "print(f\"sent message: {original_message}, messagge in binary format: {message}\")\n",
        "print(f\"key: {key}, len: {len(key)}; message: {message}, len: {len(message)}\")\n",
        "print(f\"encrypted message: {encrypted_message}\")\n",
        "print(f\"decrypted message: {decrypted_message}\")\n",
        "print(f\"received message: {received_message}\")"
      ],
      "metadata": {
        "colab": {
          "base_uri": "https://localhost:8080/"
        },
        "id": "8qs2gj9eQUm3",
        "outputId": "ed81a168-1cf1-492e-cbef-fe81ff07deb1"
      },
      "execution_count": 9,
      "outputs": [
        {
          "output_type": "stream",
          "name": "stdout",
          "text": [
            "sent message: Google, messagge in binary format: 010001110110111101101111011001110110110001100101\n",
            "key: 000000001000100000000100010000000010001000000001, len: 48; message: 010001110110111101101111011001110110110001100101, len: 48\n",
            "encrypted message: 010001111110011101101011001001110100111001100100\n",
            "decrypted message: 010001110110111101101111011001110110110001100101\n",
            "received message: Google\n"
          ]
        }
      ]
    },
    {
      "cell_type": "code",
      "source": [
        "#text\n",
        "original_message = \"HswrTY@K\"\n",
        "\n",
        "message = binary_converter(original_message)\n",
        "message = ''.join(map(str, message))\n",
        "key = create_key_bb84()\n",
        "key = shorten_key(message, key)\n",
        "\n",
        "\n",
        "encrypted_message = encryption(message, key)\n",
        "decrypted_message = decryption(encrypted_message, key)\n",
        "received_message = string_converter(decrypted_message)\n",
        "\n",
        "print(f\"sent message: {original_message}, messagge in binary format: {message}\")\n",
        "print(f\"key: {key}, len: {len(key)}; message: {message}, len: {len(message)}\")\n",
        "print(f\"encrypted message: {encrypted_message}\")\n",
        "print(f\"decrypted message: {decrypted_message}\")\n",
        "print(f\"received message: {received_message}\")"
      ],
      "metadata": {
        "colab": {
          "base_uri": "https://localhost:8080/"
        },
        "id": "AXXk5p3TqBmy",
        "outputId": "26fdebc9-76cb-4eda-f39e-c8adf5e5e2ac"
      },
      "execution_count": 10,
      "outputs": [
        {
          "output_type": "stream",
          "name": "stdout",
          "text": [
            "sent message: HswrTY@K, messagge in binary format: 0100100001110011011101110111001001010100010110010100000001001011\n",
            "key: 0011011100110010011011100110010011011100110010011011100110010011, len: 64; message: 0100100001110011011101110111001001010100010110010100000001001011, len: 64\n",
            "encrypted message: 0111111101000001000110010001011010001000100100001111100111011000\n",
            "decrypted message: 0100100001110011011101110111001001010100010110010100000001001011\n",
            "received message: HswrTY@K\n"
          ]
        }
      ]
    },
    {
      "cell_type": "markdown",
      "source": [
        "## Message: like a Whatsapp message"
      ],
      "metadata": {
        "id": "isMQxhSVmm1j"
      }
    },
    {
      "cell_type": "code",
      "source": [
        "original_message = \"I am a future quantum leader (:\"\n",
        "print(f\"original message: {original_message}\")\n",
        "\n",
        "\n",
        "message = binary_converter(original_message)\n",
        "message = ''.join(map(str, message))\n",
        "\n",
        "print(\"---------------------------------------------\")\n",
        "\n",
        "print(f\"binary message: {message}, len: {len(message)}\")\n",
        "\n",
        "key = create_key_bb84()\n",
        "\n",
        "print(f\"original key: {key}, len: {len(key)}\")\n",
        "\n",
        "key = shorten_key(message, key)\n",
        "print(f\"adjusted key: {key}, len: {len(key)}\")\n",
        "\n",
        "\n",
        "\n",
        "encrypted_message = encryption(message, key)\n",
        "decrypted_message = decryption(encrypted_message, key)\n",
        "received_message = string_converter(decrypted_message)\n",
        "\n",
        "\n",
        "print(\"---------------------------------------------\")\n",
        "print(f\"encrypted message: {encrypted_message}\")\n",
        "print(f\"decrypted message: {decrypted_message}\")\n",
        "print(\"---------------------------------------------\")\n",
        "print(f\"received message: {received_message}\")\n"
      ],
      "metadata": {
        "colab": {
          "base_uri": "https://localhost:8080/"
        },
        "id": "6PbyALA5ZStz",
        "outputId": "1ecfb5c2-266f-454b-e68e-6437e2bc8861"
      },
      "execution_count": 14,
      "outputs": [
        {
          "output_type": "stream",
          "name": "stdout",
          "text": [
            "original message: I am a future quantum leader (:\n",
            "---------------------------------------------\n",
            "binary message: 01001001001000000110000101101101001000000110000100100000011001100111010101110100011101010111001001100101001000000111000101110101011000010110111001110100011101010110110100100000011011000110010101100001011001000110010101110010001000000010100000111010, len: 248\n",
            "original key: 1010011010001101, len: 16\n",
            "adjusted key: 10100110100011011010011010001101101001101000110110100110100011011010011010001101101001101000110110100110100011011010011010001101101001101000110110100110100011011010011010001101101001101000110110100110100011011010011010001101101001101000110110100110, len: 248\n",
            "---------------------------------------------\n",
            "encrypted message: 11101111101011011100011111100000100001101110110010000110111010111101001111111001110100111111111111000011101011011101011111111000110001111110001111010010111110001100101110101101110010101110100011000111111010011100001111111111100001101010010110011100\n",
            "decrypted message: 01001001001000000110000101101101001000000110000100100000011001100111010101110100011101010111001001100101001000000111000101110101011000010110111001110100011101010110110100100000011011000110010101100001011001000110010101110010001000000010100000111010\n",
            "---------------------------------------------\n",
            "received message: I am a future quantum leader (:\n"
          ]
        }
      ]
    }
  ]
}